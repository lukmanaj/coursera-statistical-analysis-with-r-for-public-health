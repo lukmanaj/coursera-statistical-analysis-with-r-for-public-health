{
  "nbformat": 4,
  "nbformat_minor": 0,
  "metadata": {
    "colab": {
      "provenance": [],
      "authorship_tag": "ABX9TyPUdDuMepoYDUpKT4AhpWDo",
      "include_colab_link": true
    },
    "kernelspec": {
      "name": "ir",
      "display_name": "R"
    },
    "language_info": {
      "name": "R"
    }
  },
  "cells": [
    {
      "cell_type": "markdown",
      "metadata": {
        "id": "view-in-github",
        "colab_type": "text"
      },
      "source": [
        "<a href=\"https://colab.research.google.com/github/lukmanaj/coursera-statistical-analysis-with-r-for-public-health/blob/main/notebooks/logistic_regression_in_R.ipynb\" target=\"_parent\"><img src=\"https://colab.research.google.com/assets/colab-badge.svg\" alt=\"Open In Colab\"/></a>"
      ]
    },
    {
      "cell_type": "code",
      "execution_count": 1,
      "metadata": {
        "colab": {
          "base_uri": "https://localhost:8080/"
        },
        "id": "6wmzOCKO-u3y",
        "outputId": "d403fdae-7ffb-47b9-ca87-cd5523dd680f"
      },
      "outputs": [
        {
          "output_type": "stream",
          "name": "stderr",
          "text": [
            "── \u001b[1mAttaching core tidyverse packages\u001b[22m ──────────────────────── tidyverse 2.0.0 ──\n",
            "\u001b[32m✔\u001b[39m \u001b[34mdplyr    \u001b[39m 1.1.4     \u001b[32m✔\u001b[39m \u001b[34mreadr    \u001b[39m 2.1.5\n",
            "\u001b[32m✔\u001b[39m \u001b[34mforcats  \u001b[39m 1.0.0     \u001b[32m✔\u001b[39m \u001b[34mstringr  \u001b[39m 1.5.1\n",
            "\u001b[32m✔\u001b[39m \u001b[34mggplot2  \u001b[39m 3.4.4     \u001b[32m✔\u001b[39m \u001b[34mtibble   \u001b[39m 3.2.1\n",
            "\u001b[32m✔\u001b[39m \u001b[34mlubridate\u001b[39m 1.9.3     \u001b[32m✔\u001b[39m \u001b[34mtidyr    \u001b[39m 1.3.1\n",
            "\u001b[32m✔\u001b[39m \u001b[34mpurrr    \u001b[39m 1.0.2     \n",
            "── \u001b[1mConflicts\u001b[22m ────────────────────────────────────────── tidyverse_conflicts() ──\n",
            "\u001b[31m✖\u001b[39m \u001b[34mdplyr\u001b[39m::\u001b[32mfilter()\u001b[39m masks \u001b[34mstats\u001b[39m::filter()\n",
            "\u001b[31m✖\u001b[39m \u001b[34mdplyr\u001b[39m::\u001b[32mlag()\u001b[39m    masks \u001b[34mstats\u001b[39m::lag()\n",
            "\u001b[36mℹ\u001b[39m Use the conflicted package (\u001b[3m\u001b[34m<http://conflicted.r-lib.org/>\u001b[39m\u001b[23m) to force all conflicts to become errors\n"
          ]
        }
      ],
      "source": [
        "# loading packages\n",
        "library(tidyverse)"
      ]
    },
    {
      "cell_type": "code",
      "source": [
        "#diabetes <- read_csv(\"final-diabetes-data-for-R.csv\")\n",
        "diabetes <- read_csv(\"https://raw.githubusercontent.com/lukmanaj/coursera-statistical-analysis-with-r-for-public-health/main/codes/final-diabetes-data-for-R.csv\")\n",
        "dim(diabetes)\n"
      ],
      "metadata": {
        "colab": {
          "base_uri": "https://localhost:8080/",
          "height": 216
        },
        "id": "ewW2BYaX-948",
        "outputId": "17bde766-909c-4fa2-93c2-0399938fa2f1"
      },
      "execution_count": 2,
      "outputs": [
        {
          "output_type": "stream",
          "name": "stderr",
          "text": [
            "\u001b[1m\u001b[22mNew names:\n",
            "\u001b[36m•\u001b[39m `` -> `...1`\n",
            "\u001b[1mRows: \u001b[22m\u001b[34m403\u001b[39m \u001b[1mColumns: \u001b[22m\u001b[34m24\u001b[39m\n",
            "\u001b[36m──\u001b[39m \u001b[1mColumn specification\u001b[22m \u001b[36m────────────────────────────────────────────────────────\u001b[39m\n",
            "\u001b[1mDelimiter:\u001b[22m \",\"\n",
            "\u001b[31mchr\u001b[39m  (4): location, gender, frame, dm\n",
            "\u001b[32mdbl\u001b[39m (20): ...1, id, chol, stab.glu, hdl, ratio, glyhb, age, height, weight, ...\n",
            "\n",
            "\u001b[36mℹ\u001b[39m Use `spec()` to retrieve the full column specification for this data.\n",
            "\u001b[36mℹ\u001b[39m Specify the column types or set `show_col_types = FALSE` to quiet this message.\n"
          ]
        },
        {
          "output_type": "display_data",
          "data": {
            "text/html": [
              "<style>\n",
              ".list-inline {list-style: none; margin:0; padding: 0}\n",
              ".list-inline>li {display: inline-block}\n",
              ".list-inline>li:not(:last-child)::after {content: \"\\00b7\"; padding: 0 .5ex}\n",
              "</style>\n",
              "<ol class=list-inline><li>403</li><li>24</li></ol>\n"
            ],
            "text/markdown": "1. 403\n2. 24\n\n\n",
            "text/latex": "\\begin{enumerate*}\n\\item 403\n\\item 24\n\\end{enumerate*}\n",
            "text/plain": [
              "[1] 403  24"
            ]
          },
          "metadata": {}
        }
      ]
    },
    {
      "cell_type": "code",
      "source": [
        "colnames(diabetes)\n"
      ],
      "metadata": {
        "colab": {
          "base_uri": "https://localhost:8080/",
          "height": 34
        },
        "id": "ffbTqABI_BEf",
        "outputId": "212d05b2-1c56-4f2f-f56d-aa10ba6920cf"
      },
      "execution_count": 3,
      "outputs": [
        {
          "output_type": "display_data",
          "data": {
            "text/html": [
              "<style>\n",
              ".list-inline {list-style: none; margin:0; padding: 0}\n",
              ".list-inline>li {display: inline-block}\n",
              ".list-inline>li:not(:last-child)::after {content: \"\\00b7\"; padding: 0 .5ex}\n",
              "</style>\n",
              "<ol class=list-inline><li>'...1'</li><li>'id'</li><li>'chol'</li><li>'stab.glu'</li><li>'hdl'</li><li>'ratio'</li><li>'glyhb'</li><li>'location'</li><li>'age'</li><li>'gender'</li><li>'height'</li><li>'weight'</li><li>'frame'</li><li>'bp.1s'</li><li>'bp.1d'</li><li>'bp.2s'</li><li>'bp.2d'</li><li>'waist'</li><li>'hip'</li><li>'time.ppn'</li><li>'insurance'</li><li>'fh'</li><li>'smoking'</li><li>'dm'</li></ol>\n"
            ],
            "text/markdown": "1. '...1'\n2. 'id'\n3. 'chol'\n4. 'stab.glu'\n5. 'hdl'\n6. 'ratio'\n7. 'glyhb'\n8. 'location'\n9. 'age'\n10. 'gender'\n11. 'height'\n12. 'weight'\n13. 'frame'\n14. 'bp.1s'\n15. 'bp.1d'\n16. 'bp.2s'\n17. 'bp.2d'\n18. 'waist'\n19. 'hip'\n20. 'time.ppn'\n21. 'insurance'\n22. 'fh'\n23. 'smoking'\n24. 'dm'\n\n\n",
            "text/latex": "\\begin{enumerate*}\n\\item '...1'\n\\item 'id'\n\\item 'chol'\n\\item 'stab.glu'\n\\item 'hdl'\n\\item 'ratio'\n\\item 'glyhb'\n\\item 'location'\n\\item 'age'\n\\item 'gender'\n\\item 'height'\n\\item 'weight'\n\\item 'frame'\n\\item 'bp.1s'\n\\item 'bp.1d'\n\\item 'bp.2s'\n\\item 'bp.2d'\n\\item 'waist'\n\\item 'hip'\n\\item 'time.ppn'\n\\item 'insurance'\n\\item 'fh'\n\\item 'smoking'\n\\item 'dm'\n\\end{enumerate*}\n",
            "text/plain": [
              " [1] \"...1\"      \"id\"        \"chol\"      \"stab.glu\"  \"hdl\"       \"ratio\"    \n",
              " [7] \"glyhb\"     \"location\"  \"age\"       \"gender\"    \"height\"    \"weight\"   \n",
              "[13] \"frame\"     \"bp.1s\"     \"bp.1d\"     \"bp.2s\"     \"bp.2d\"     \"waist\"    \n",
              "[19] \"hip\"       \"time.ppn\"  \"insurance\" \"fh\"        \"smoking\"   \"dm\"       "
            ]
          },
          "metadata": {}
        }
      ]
    },
    {
      "cell_type": "code",
      "source": [
        "dimnames(diabetes[2])\n"
      ],
      "metadata": {
        "colab": {
          "base_uri": "https://localhost:8080/",
          "height": 271
        },
        "id": "alHMSzSJ_DrT",
        "outputId": "76485a54-2eb9-4f3c-ae5c-e62acc4b47df"
      },
      "execution_count": 4,
      "outputs": [
        {
          "output_type": "display_data",
          "data": {
            "text/html": [
              "<ol>\n",
              "\t<li><style>\n",
              ".list-inline {list-style: none; margin:0; padding: 0}\n",
              ".list-inline>li {display: inline-block}\n",
              ".list-inline>li:not(:last-child)::after {content: \"\\00b7\"; padding: 0 .5ex}\n",
              "</style>\n",
              "<ol class=list-inline><li>'1'</li><li>'2'</li><li>'3'</li><li>'4'</li><li>'5'</li><li>'6'</li><li>'7'</li><li>'8'</li><li>'9'</li><li>'10'</li><li>'11'</li><li>'12'</li><li>'13'</li><li>'14'</li><li>'15'</li><li>'16'</li><li>'17'</li><li>'18'</li><li>'19'</li><li>'20'</li><li>'21'</li><li>'22'</li><li>'23'</li><li>'24'</li><li>'25'</li><li>'26'</li><li>'27'</li><li>'28'</li><li>'29'</li><li>'30'</li><li>'31'</li><li>'32'</li><li>'33'</li><li>'34'</li><li>'35'</li><li>'36'</li><li>'37'</li><li>'38'</li><li>'39'</li><li>'40'</li><li>'41'</li><li>'42'</li><li>'43'</li><li>'44'</li><li>'45'</li><li>'46'</li><li>'47'</li><li>'48'</li><li>'49'</li><li>'50'</li><li>'51'</li><li>'52'</li><li>'53'</li><li>'54'</li><li>'55'</li><li>'56'</li><li>'57'</li><li>'58'</li><li>'59'</li><li>'60'</li><li>'61'</li><li>'62'</li><li>'63'</li><li>'64'</li><li>'65'</li><li>'66'</li><li>'67'</li><li>'68'</li><li>'69'</li><li>'70'</li><li>'71'</li><li>'72'</li><li>'73'</li><li>'74'</li><li>'75'</li><li>'76'</li><li>'77'</li><li>'78'</li><li>'79'</li><li>'80'</li><li>'81'</li><li>'82'</li><li>'83'</li><li>'84'</li><li>'85'</li><li>'86'</li><li>'87'</li><li>'88'</li><li>'89'</li><li>'90'</li><li>'91'</li><li>'92'</li><li>'93'</li><li>'94'</li><li>'95'</li><li>'96'</li><li>'97'</li><li>'98'</li><li>'99'</li><li>'100'</li><li>'101'</li><li>'102'</li><li>'103'</li><li>'104'</li><li>'105'</li><li>'106'</li><li>'107'</li><li>'108'</li><li>'109'</li><li>'110'</li><li>'111'</li><li>'112'</li><li>'113'</li><li>'114'</li><li>'115'</li><li>'116'</li><li>'117'</li><li>'118'</li><li>'119'</li><li>'120'</li><li>'121'</li><li>'122'</li><li>'123'</li><li>'124'</li><li>'125'</li><li>'126'</li><li>'127'</li><li>'128'</li><li>'129'</li><li>'130'</li><li>'131'</li><li>'132'</li><li>'133'</li><li>'134'</li><li>'135'</li><li>'136'</li><li>'137'</li><li>'138'</li><li>'139'</li><li>'140'</li><li>'141'</li><li>'142'</li><li>'143'</li><li>'144'</li><li>'145'</li><li>'146'</li><li>'147'</li><li>'148'</li><li>'149'</li><li>'150'</li><li>'151'</li><li>'152'</li><li>'153'</li><li>'154'</li><li>'155'</li><li>'156'</li><li>'157'</li><li>'158'</li><li>'159'</li><li>'160'</li><li>'161'</li><li>'162'</li><li>'163'</li><li>'164'</li><li>'165'</li><li>'166'</li><li>'167'</li><li>'168'</li><li>'169'</li><li>'170'</li><li>'171'</li><li>'172'</li><li>'173'</li><li>'174'</li><li>'175'</li><li>'176'</li><li>'177'</li><li>'178'</li><li>'179'</li><li>'180'</li><li>'181'</li><li>'182'</li><li>'183'</li><li>'184'</li><li>'185'</li><li>'186'</li><li>'187'</li><li>'188'</li><li>'189'</li><li>'190'</li><li>'191'</li><li>'192'</li><li>'193'</li><li>'194'</li><li>'195'</li><li>'196'</li><li>'197'</li><li>'198'</li><li>'199'</li><li>'200'</li><li>⋯</li><li>'204'</li><li>'205'</li><li>'206'</li><li>'207'</li><li>'208'</li><li>'209'</li><li>'210'</li><li>'211'</li><li>'212'</li><li>'213'</li><li>'214'</li><li>'215'</li><li>'216'</li><li>'217'</li><li>'218'</li><li>'219'</li><li>'220'</li><li>'221'</li><li>'222'</li><li>'223'</li><li>'224'</li><li>'225'</li><li>'226'</li><li>'227'</li><li>'228'</li><li>'229'</li><li>'230'</li><li>'231'</li><li>'232'</li><li>'233'</li><li>'234'</li><li>'235'</li><li>'236'</li><li>'237'</li><li>'238'</li><li>'239'</li><li>'240'</li><li>'241'</li><li>'242'</li><li>'243'</li><li>'244'</li><li>'245'</li><li>'246'</li><li>'247'</li><li>'248'</li><li>'249'</li><li>'250'</li><li>'251'</li><li>'252'</li><li>'253'</li><li>'254'</li><li>'255'</li><li>'256'</li><li>'257'</li><li>'258'</li><li>'259'</li><li>'260'</li><li>'261'</li><li>'262'</li><li>'263'</li><li>'264'</li><li>'265'</li><li>'266'</li><li>'267'</li><li>'268'</li><li>'269'</li><li>'270'</li><li>'271'</li><li>'272'</li><li>'273'</li><li>'274'</li><li>'275'</li><li>'276'</li><li>'277'</li><li>'278'</li><li>'279'</li><li>'280'</li><li>'281'</li><li>'282'</li><li>'283'</li><li>'284'</li><li>'285'</li><li>'286'</li><li>'287'</li><li>'288'</li><li>'289'</li><li>'290'</li><li>'291'</li><li>'292'</li><li>'293'</li><li>'294'</li><li>'295'</li><li>'296'</li><li>'297'</li><li>'298'</li><li>'299'</li><li>'300'</li><li>'301'</li><li>'302'</li><li>'303'</li><li>'304'</li><li>'305'</li><li>'306'</li><li>'307'</li><li>'308'</li><li>'309'</li><li>'310'</li><li>'311'</li><li>'312'</li><li>'313'</li><li>'314'</li><li>'315'</li><li>'316'</li><li>'317'</li><li>'318'</li><li>'319'</li><li>'320'</li><li>'321'</li><li>'322'</li><li>'323'</li><li>'324'</li><li>'325'</li><li>'326'</li><li>'327'</li><li>'328'</li><li>'329'</li><li>'330'</li><li>'331'</li><li>'332'</li><li>'333'</li><li>'334'</li><li>'335'</li><li>'336'</li><li>'337'</li><li>'338'</li><li>'339'</li><li>'340'</li><li>'341'</li><li>'342'</li><li>'343'</li><li>'344'</li><li>'345'</li><li>'346'</li><li>'347'</li><li>'348'</li><li>'349'</li><li>'350'</li><li>'351'</li><li>'352'</li><li>'353'</li><li>'354'</li><li>'355'</li><li>'356'</li><li>'357'</li><li>'358'</li><li>'359'</li><li>'360'</li><li>'361'</li><li>'362'</li><li>'363'</li><li>'364'</li><li>'365'</li><li>'366'</li><li>'367'</li><li>'368'</li><li>'369'</li><li>'370'</li><li>'371'</li><li>'372'</li><li>'373'</li><li>'374'</li><li>'375'</li><li>'376'</li><li>'377'</li><li>'378'</li><li>'379'</li><li>'380'</li><li>'381'</li><li>'382'</li><li>'383'</li><li>'384'</li><li>'385'</li><li>'386'</li><li>'387'</li><li>'388'</li><li>'389'</li><li>'390'</li><li>'391'</li><li>'392'</li><li>'393'</li><li>'394'</li><li>'395'</li><li>'396'</li><li>'397'</li><li>'398'</li><li>'399'</li><li>'400'</li><li>'401'</li><li>'402'</li><li>'403'</li></ol>\n",
              "</li>\n",
              "\t<li>'id'</li>\n",
              "</ol>\n"
            ],
            "text/markdown": "1. 1. '1'\n2. '2'\n3. '3'\n4. '4'\n5. '5'\n6. '6'\n7. '7'\n8. '8'\n9. '9'\n10. '10'\n11. '11'\n12. '12'\n13. '13'\n14. '14'\n15. '15'\n16. '16'\n17. '17'\n18. '18'\n19. '19'\n20. '20'\n21. '21'\n22. '22'\n23. '23'\n24. '24'\n25. '25'\n26. '26'\n27. '27'\n28. '28'\n29. '29'\n30. '30'\n31. '31'\n32. '32'\n33. '33'\n34. '34'\n35. '35'\n36. '36'\n37. '37'\n38. '38'\n39. '39'\n40. '40'\n41. '41'\n42. '42'\n43. '43'\n44. '44'\n45. '45'\n46. '46'\n47. '47'\n48. '48'\n49. '49'\n50. '50'\n51. '51'\n52. '52'\n53. '53'\n54. '54'\n55. '55'\n56. '56'\n57. '57'\n58. '58'\n59. '59'\n60. '60'\n61. '61'\n62. '62'\n63. '63'\n64. '64'\n65. '65'\n66. '66'\n67. '67'\n68. '68'\n69. '69'\n70. '70'\n71. '71'\n72. '72'\n73. '73'\n74. '74'\n75. '75'\n76. '76'\n77. '77'\n78. '78'\n79. '79'\n80. '80'\n81. '81'\n82. '82'\n83. '83'\n84. '84'\n85. '85'\n86. '86'\n87. '87'\n88. '88'\n89. '89'\n90. '90'\n91. '91'\n92. '92'\n93. '93'\n94. '94'\n95. '95'\n96. '96'\n97. '97'\n98. '98'\n99. '99'\n100. '100'\n101. '101'\n102. '102'\n103. '103'\n104. '104'\n105. '105'\n106. '106'\n107. '107'\n108. '108'\n109. '109'\n110. '110'\n111. '111'\n112. '112'\n113. '113'\n114. '114'\n115. '115'\n116. '116'\n117. '117'\n118. '118'\n119. '119'\n120. '120'\n121. '121'\n122. '122'\n123. '123'\n124. '124'\n125. '125'\n126. '126'\n127. '127'\n128. '128'\n129. '129'\n130. '130'\n131. '131'\n132. '132'\n133. '133'\n134. '134'\n135. '135'\n136. '136'\n137. '137'\n138. '138'\n139. '139'\n140. '140'\n141. '141'\n142. '142'\n143. '143'\n144. '144'\n145. '145'\n146. '146'\n147. '147'\n148. '148'\n149. '149'\n150. '150'\n151. '151'\n152. '152'\n153. '153'\n154. '154'\n155. '155'\n156. '156'\n157. '157'\n158. '158'\n159. '159'\n160. '160'\n161. '161'\n162. '162'\n163. '163'\n164. '164'\n165. '165'\n166. '166'\n167. '167'\n168. '168'\n169. '169'\n170. '170'\n171. '171'\n172. '172'\n173. '173'\n174. '174'\n175. '175'\n176. '176'\n177. '177'\n178. '178'\n179. '179'\n180. '180'\n181. '181'\n182. '182'\n183. '183'\n184. '184'\n185. '185'\n186. '186'\n187. '187'\n188. '188'\n189. '189'\n190. '190'\n191. '191'\n192. '192'\n193. '193'\n194. '194'\n195. '195'\n196. '196'\n197. '197'\n198. '198'\n199. '199'\n200. '200'\n201. ⋯\n202. '204'\n203. '205'\n204. '206'\n205. '207'\n206. '208'\n207. '209'\n208. '210'\n209. '211'\n210. '212'\n211. '213'\n212. '214'\n213. '215'\n214. '216'\n215. '217'\n216. '218'\n217. '219'\n218. '220'\n219. '221'\n220. '222'\n221. '223'\n222. '224'\n223. '225'\n224. '226'\n225. '227'\n226. '228'\n227. '229'\n228. '230'\n229. '231'\n230. '232'\n231. '233'\n232. '234'\n233. '235'\n234. '236'\n235. '237'\n236. '238'\n237. '239'\n238. '240'\n239. '241'\n240. '242'\n241. '243'\n242. '244'\n243. '245'\n244. '246'\n245. '247'\n246. '248'\n247. '249'\n248. '250'\n249. '251'\n250. '252'\n251. '253'\n252. '254'\n253. '255'\n254. '256'\n255. '257'\n256. '258'\n257. '259'\n258. '260'\n259. '261'\n260. '262'\n261. '263'\n262. '264'\n263. '265'\n264. '266'\n265. '267'\n266. '268'\n267. '269'\n268. '270'\n269. '271'\n270. '272'\n271. '273'\n272. '274'\n273. '275'\n274. '276'\n275. '277'\n276. '278'\n277. '279'\n278. '280'\n279. '281'\n280. '282'\n281. '283'\n282. '284'\n283. '285'\n284. '286'\n285. '287'\n286. '288'\n287. '289'\n288. '290'\n289. '291'\n290. '292'\n291. '293'\n292. '294'\n293. '295'\n294. '296'\n295. '297'\n296. '298'\n297. '299'\n298. '300'\n299. '301'\n300. '302'\n301. '303'\n302. '304'\n303. '305'\n304. '306'\n305. '307'\n306. '308'\n307. '309'\n308. '310'\n309. '311'\n310. '312'\n311. '313'\n312. '314'\n313. '315'\n314. '316'\n315. '317'\n316. '318'\n317. '319'\n318. '320'\n319. '321'\n320. '322'\n321. '323'\n322. '324'\n323. '325'\n324. '326'\n325. '327'\n326. '328'\n327. '329'\n328. '330'\n329. '331'\n330. '332'\n331. '333'\n332. '334'\n333. '335'\n334. '336'\n335. '337'\n336. '338'\n337. '339'\n338. '340'\n339. '341'\n340. '342'\n341. '343'\n342. '344'\n343. '345'\n344. '346'\n345. '347'\n346. '348'\n347. '349'\n348. '350'\n349. '351'\n350. '352'\n351. '353'\n352. '354'\n353. '355'\n354. '356'\n355. '357'\n356. '358'\n357. '359'\n358. '360'\n359. '361'\n360. '362'\n361. '363'\n362. '364'\n363. '365'\n364. '366'\n365. '367'\n366. '368'\n367. '369'\n368. '370'\n369. '371'\n370. '372'\n371. '373'\n372. '374'\n373. '375'\n374. '376'\n375. '377'\n376. '378'\n377. '379'\n378. '380'\n379. '381'\n380. '382'\n381. '383'\n382. '384'\n383. '385'\n384. '386'\n385. '387'\n386. '388'\n387. '389'\n388. '390'\n389. '391'\n390. '392'\n391. '393'\n392. '394'\n393. '395'\n394. '396'\n395. '397'\n396. '398'\n397. '399'\n398. '400'\n399. '401'\n400. '402'\n401. '403'\n\n\n\n2. 'id'\n\n\n",
            "text/latex": "\\begin{enumerate}\n\\item \\begin{enumerate*}\n\\item '1'\n\\item '2'\n\\item '3'\n\\item '4'\n\\item '5'\n\\item '6'\n\\item '7'\n\\item '8'\n\\item '9'\n\\item '10'\n\\item '11'\n\\item '12'\n\\item '13'\n\\item '14'\n\\item '15'\n\\item '16'\n\\item '17'\n\\item '18'\n\\item '19'\n\\item '20'\n\\item '21'\n\\item '22'\n\\item '23'\n\\item '24'\n\\item '25'\n\\item '26'\n\\item '27'\n\\item '28'\n\\item '29'\n\\item '30'\n\\item '31'\n\\item '32'\n\\item '33'\n\\item '34'\n\\item '35'\n\\item '36'\n\\item '37'\n\\item '38'\n\\item '39'\n\\item '40'\n\\item '41'\n\\item '42'\n\\item '43'\n\\item '44'\n\\item '45'\n\\item '46'\n\\item '47'\n\\item '48'\n\\item '49'\n\\item '50'\n\\item '51'\n\\item '52'\n\\item '53'\n\\item '54'\n\\item '55'\n\\item '56'\n\\item '57'\n\\item '58'\n\\item '59'\n\\item '60'\n\\item '61'\n\\item '62'\n\\item '63'\n\\item '64'\n\\item '65'\n\\item '66'\n\\item '67'\n\\item '68'\n\\item '69'\n\\item '70'\n\\item '71'\n\\item '72'\n\\item '73'\n\\item '74'\n\\item '75'\n\\item '76'\n\\item '77'\n\\item '78'\n\\item '79'\n\\item '80'\n\\item '81'\n\\item '82'\n\\item '83'\n\\item '84'\n\\item '85'\n\\item '86'\n\\item '87'\n\\item '88'\n\\item '89'\n\\item '90'\n\\item '91'\n\\item '92'\n\\item '93'\n\\item '94'\n\\item '95'\n\\item '96'\n\\item '97'\n\\item '98'\n\\item '99'\n\\item '100'\n\\item '101'\n\\item '102'\n\\item '103'\n\\item '104'\n\\item '105'\n\\item '106'\n\\item '107'\n\\item '108'\n\\item '109'\n\\item '110'\n\\item '111'\n\\item '112'\n\\item '113'\n\\item '114'\n\\item '115'\n\\item '116'\n\\item '117'\n\\item '118'\n\\item '119'\n\\item '120'\n\\item '121'\n\\item '122'\n\\item '123'\n\\item '124'\n\\item '125'\n\\item '126'\n\\item '127'\n\\item '128'\n\\item '129'\n\\item '130'\n\\item '131'\n\\item '132'\n\\item '133'\n\\item '134'\n\\item '135'\n\\item '136'\n\\item '137'\n\\item '138'\n\\item '139'\n\\item '140'\n\\item '141'\n\\item '142'\n\\item '143'\n\\item '144'\n\\item '145'\n\\item '146'\n\\item '147'\n\\item '148'\n\\item '149'\n\\item '150'\n\\item '151'\n\\item '152'\n\\item '153'\n\\item '154'\n\\item '155'\n\\item '156'\n\\item '157'\n\\item '158'\n\\item '159'\n\\item '160'\n\\item '161'\n\\item '162'\n\\item '163'\n\\item '164'\n\\item '165'\n\\item '166'\n\\item '167'\n\\item '168'\n\\item '169'\n\\item '170'\n\\item '171'\n\\item '172'\n\\item '173'\n\\item '174'\n\\item '175'\n\\item '176'\n\\item '177'\n\\item '178'\n\\item '179'\n\\item '180'\n\\item '181'\n\\item '182'\n\\item '183'\n\\item '184'\n\\item '185'\n\\item '186'\n\\item '187'\n\\item '188'\n\\item '189'\n\\item '190'\n\\item '191'\n\\item '192'\n\\item '193'\n\\item '194'\n\\item '195'\n\\item '196'\n\\item '197'\n\\item '198'\n\\item '199'\n\\item '200'\n\\item ⋯\n\\item '204'\n\\item '205'\n\\item '206'\n\\item '207'\n\\item '208'\n\\item '209'\n\\item '210'\n\\item '211'\n\\item '212'\n\\item '213'\n\\item '214'\n\\item '215'\n\\item '216'\n\\item '217'\n\\item '218'\n\\item '219'\n\\item '220'\n\\item '221'\n\\item '222'\n\\item '223'\n\\item '224'\n\\item '225'\n\\item '226'\n\\item '227'\n\\item '228'\n\\item '229'\n\\item '230'\n\\item '231'\n\\item '232'\n\\item '233'\n\\item '234'\n\\item '235'\n\\item '236'\n\\item '237'\n\\item '238'\n\\item '239'\n\\item '240'\n\\item '241'\n\\item '242'\n\\item '243'\n\\item '244'\n\\item '245'\n\\item '246'\n\\item '247'\n\\item '248'\n\\item '249'\n\\item '250'\n\\item '251'\n\\item '252'\n\\item '253'\n\\item '254'\n\\item '255'\n\\item '256'\n\\item '257'\n\\item '258'\n\\item '259'\n\\item '260'\n\\item '261'\n\\item '262'\n\\item '263'\n\\item '264'\n\\item '265'\n\\item '266'\n\\item '267'\n\\item '268'\n\\item '269'\n\\item '270'\n\\item '271'\n\\item '272'\n\\item '273'\n\\item '274'\n\\item '275'\n\\item '276'\n\\item '277'\n\\item '278'\n\\item '279'\n\\item '280'\n\\item '281'\n\\item '282'\n\\item '283'\n\\item '284'\n\\item '285'\n\\item '286'\n\\item '287'\n\\item '288'\n\\item '289'\n\\item '290'\n\\item '291'\n\\item '292'\n\\item '293'\n\\item '294'\n\\item '295'\n\\item '296'\n\\item '297'\n\\item '298'\n\\item '299'\n\\item '300'\n\\item '301'\n\\item '302'\n\\item '303'\n\\item '304'\n\\item '305'\n\\item '306'\n\\item '307'\n\\item '308'\n\\item '309'\n\\item '310'\n\\item '311'\n\\item '312'\n\\item '313'\n\\item '314'\n\\item '315'\n\\item '316'\n\\item '317'\n\\item '318'\n\\item '319'\n\\item '320'\n\\item '321'\n\\item '322'\n\\item '323'\n\\item '324'\n\\item '325'\n\\item '326'\n\\item '327'\n\\item '328'\n\\item '329'\n\\item '330'\n\\item '331'\n\\item '332'\n\\item '333'\n\\item '334'\n\\item '335'\n\\item '336'\n\\item '337'\n\\item '338'\n\\item '339'\n\\item '340'\n\\item '341'\n\\item '342'\n\\item '343'\n\\item '344'\n\\item '345'\n\\item '346'\n\\item '347'\n\\item '348'\n\\item '349'\n\\item '350'\n\\item '351'\n\\item '352'\n\\item '353'\n\\item '354'\n\\item '355'\n\\item '356'\n\\item '357'\n\\item '358'\n\\item '359'\n\\item '360'\n\\item '361'\n\\item '362'\n\\item '363'\n\\item '364'\n\\item '365'\n\\item '366'\n\\item '367'\n\\item '368'\n\\item '369'\n\\item '370'\n\\item '371'\n\\item '372'\n\\item '373'\n\\item '374'\n\\item '375'\n\\item '376'\n\\item '377'\n\\item '378'\n\\item '379'\n\\item '380'\n\\item '381'\n\\item '382'\n\\item '383'\n\\item '384'\n\\item '385'\n\\item '386'\n\\item '387'\n\\item '388'\n\\item '389'\n\\item '390'\n\\item '391'\n\\item '392'\n\\item '393'\n\\item '394'\n\\item '395'\n\\item '396'\n\\item '397'\n\\item '398'\n\\item '399'\n\\item '400'\n\\item '401'\n\\item '402'\n\\item '403'\n\\end{enumerate*}\n\n\\item 'id'\n\\end{enumerate}\n",
            "text/plain": [
              "[[1]]\n",
              "  [1] \"1\"   \"2\"   \"3\"   \"4\"   \"5\"   \"6\"   \"7\"   \"8\"   \"9\"   \"10\"  \"11\"  \"12\" \n",
              " [13] \"13\"  \"14\"  \"15\"  \"16\"  \"17\"  \"18\"  \"19\"  \"20\"  \"21\"  \"22\"  \"23\"  \"24\" \n",
              " [25] \"25\"  \"26\"  \"27\"  \"28\"  \"29\"  \"30\"  \"31\"  \"32\"  \"33\"  \"34\"  \"35\"  \"36\" \n",
              " [37] \"37\"  \"38\"  \"39\"  \"40\"  \"41\"  \"42\"  \"43\"  \"44\"  \"45\"  \"46\"  \"47\"  \"48\" \n",
              " [49] \"49\"  \"50\"  \"51\"  \"52\"  \"53\"  \"54\"  \"55\"  \"56\"  \"57\"  \"58\"  \"59\"  \"60\" \n",
              " [61] \"61\"  \"62\"  \"63\"  \"64\"  \"65\"  \"66\"  \"67\"  \"68\"  \"69\"  \"70\"  \"71\"  \"72\" \n",
              " [73] \"73\"  \"74\"  \"75\"  \"76\"  \"77\"  \"78\"  \"79\"  \"80\"  \"81\"  \"82\"  \"83\"  \"84\" \n",
              " [85] \"85\"  \"86\"  \"87\"  \"88\"  \"89\"  \"90\"  \"91\"  \"92\"  \"93\"  \"94\"  \"95\"  \"96\" \n",
              " [97] \"97\"  \"98\"  \"99\"  \"100\" \"101\" \"102\" \"103\" \"104\" \"105\" \"106\" \"107\" \"108\"\n",
              "[109] \"109\" \"110\" \"111\" \"112\" \"113\" \"114\" \"115\" \"116\" \"117\" \"118\" \"119\" \"120\"\n",
              "[121] \"121\" \"122\" \"123\" \"124\" \"125\" \"126\" \"127\" \"128\" \"129\" \"130\" \"131\" \"132\"\n",
              "[133] \"133\" \"134\" \"135\" \"136\" \"137\" \"138\" \"139\" \"140\" \"141\" \"142\" \"143\" \"144\"\n",
              "[145] \"145\" \"146\" \"147\" \"148\" \"149\" \"150\" \"151\" \"152\" \"153\" \"154\" \"155\" \"156\"\n",
              "[157] \"157\" \"158\" \"159\" \"160\" \"161\" \"162\" \"163\" \"164\" \"165\" \"166\" \"167\" \"168\"\n",
              "[169] \"169\" \"170\" \"171\" \"172\" \"173\" \"174\" \"175\" \"176\" \"177\" \"178\" \"179\" \"180\"\n",
              "[181] \"181\" \"182\" \"183\" \"184\" \"185\" \"186\" \"187\" \"188\" \"189\" \"190\" \"191\" \"192\"\n",
              "[193] \"193\" \"194\" \"195\" \"196\" \"197\" \"198\" \"199\" \"200\" \"201\" \"202\" \"203\" \"204\"\n",
              "[205] \"205\" \"206\" \"207\" \"208\" \"209\" \"210\" \"211\" \"212\" \"213\" \"214\" \"215\" \"216\"\n",
              "[217] \"217\" \"218\" \"219\" \"220\" \"221\" \"222\" \"223\" \"224\" \"225\" \"226\" \"227\" \"228\"\n",
              "[229] \"229\" \"230\" \"231\" \"232\" \"233\" \"234\" \"235\" \"236\" \"237\" \"238\" \"239\" \"240\"\n",
              "[241] \"241\" \"242\" \"243\" \"244\" \"245\" \"246\" \"247\" \"248\" \"249\" \"250\" \"251\" \"252\"\n",
              "[253] \"253\" \"254\" \"255\" \"256\" \"257\" \"258\" \"259\" \"260\" \"261\" \"262\" \"263\" \"264\"\n",
              "[265] \"265\" \"266\" \"267\" \"268\" \"269\" \"270\" \"271\" \"272\" \"273\" \"274\" \"275\" \"276\"\n",
              "[277] \"277\" \"278\" \"279\" \"280\" \"281\" \"282\" \"283\" \"284\" \"285\" \"286\" \"287\" \"288\"\n",
              "[289] \"289\" \"290\" \"291\" \"292\" \"293\" \"294\" \"295\" \"296\" \"297\" \"298\" \"299\" \"300\"\n",
              "[301] \"301\" \"302\" \"303\" \"304\" \"305\" \"306\" \"307\" \"308\" \"309\" \"310\" \"311\" \"312\"\n",
              "[313] \"313\" \"314\" \"315\" \"316\" \"317\" \"318\" \"319\" \"320\" \"321\" \"322\" \"323\" \"324\"\n",
              "[325] \"325\" \"326\" \"327\" \"328\" \"329\" \"330\" \"331\" \"332\" \"333\" \"334\" \"335\" \"336\"\n",
              "[337] \"337\" \"338\" \"339\" \"340\" \"341\" \"342\" \"343\" \"344\" \"345\" \"346\" \"347\" \"348\"\n",
              "[349] \"349\" \"350\" \"351\" \"352\" \"353\" \"354\" \"355\" \"356\" \"357\" \"358\" \"359\" \"360\"\n",
              "[361] \"361\" \"362\" \"363\" \"364\" \"365\" \"366\" \"367\" \"368\" \"369\" \"370\" \"371\" \"372\"\n",
              "[373] \"373\" \"374\" \"375\" \"376\" \"377\" \"378\" \"379\" \"380\" \"381\" \"382\" \"383\" \"384\"\n",
              "[385] \"385\" \"386\" \"387\" \"388\" \"389\" \"390\" \"391\" \"392\" \"393\" \"394\" \"395\" \"396\"\n",
              "[397] \"397\" \"398\" \"399\" \"400\" \"401\" \"402\" \"403\"\n",
              "\n",
              "[[2]]\n",
              "[1] \"id\"\n"
            ]
          },
          "metadata": {}
        }
      ]
    },
    {
      "cell_type": "code",
      "source": [
        "str(diabetes)\n"
      ],
      "metadata": {
        "colab": {
          "base_uri": "https://localhost:8080/"
        },
        "id": "b3EIhk58_GoX",
        "outputId": "e5458fc0-fa7c-41f3-fcd0-a53239d1b652"
      },
      "execution_count": 5,
      "outputs": [
        {
          "output_type": "stream",
          "name": "stdout",
          "text": [
            "spc_tbl_ [403 × 24] (S3: spec_tbl_df/tbl_df/tbl/data.frame)\n",
            " $ ...1     : num [1:403] 1 2 3 4 5 6 7 8 9 10 ...\n",
            " $ id       : num [1:403] 1000 1001 1002 1003 1005 ...\n",
            " $ chol     : num [1:403] 203 165 228 78 249 248 195 227 177 263 ...\n",
            " $ stab.glu : num [1:403] 82 97 92 93 90 94 92 75 87 89 ...\n",
            " $ hdl      : num [1:403] 56 24 37 12 28 69 41 44 49 40 ...\n",
            " $ ratio    : num [1:403] 3.6 6.9 6.2 6.5 8.9 ...\n",
            " $ glyhb    : num [1:403] 4.31 4.44 4.64 4.63 7.72 ...\n",
            " $ location : chr [1:403] \"Buckingham\" \"Buckingham\" \"Buckingham\" \"Buckingham\" ...\n",
            " $ age      : num [1:403] 46 29 58 67 64 34 30 37 45 55 ...\n",
            " $ gender   : chr [1:403] \"female\" \"female\" \"female\" \"male\" ...\n",
            " $ height   : num [1:403] 62 64 61 67 68 71 69 59 69 63 ...\n",
            " $ weight   : num [1:403] 121 218 256 119 183 190 191 170 166 202 ...\n",
            " $ frame    : chr [1:403] \"medium\" \"large\" \"large\" \"large\" ...\n",
            " $ bp.1s    : num [1:403] 118 112 190 110 138 132 161 NA 160 108 ...\n",
            " $ bp.1d    : num [1:403] 59 68 92 50 80 86 112 NA 80 72 ...\n",
            " $ bp.2s    : num [1:403] NA NA 185 NA NA NA 161 NA 128 NA ...\n",
            " $ bp.2d    : num [1:403] NA NA 92 NA NA NA 112 NA 86 NA ...\n",
            " $ waist    : num [1:403] 29 46 49 33 44 36 46 34 34 45 ...\n",
            " $ hip      : num [1:403] 38 48 57 38 41 42 49 39 40 50 ...\n",
            " $ time.ppn : num [1:403] 720 360 180 480 300 195 720 1020 300 240 ...\n",
            " $ insurance: num [1:403] 1 0 2 1 0 1 2 0 2 2 ...\n",
            " $ fh       : num [1:403] 0 0 0 0 0 0 1 0 1 0 ...\n",
            " $ smoking  : num [1:403] 3 2 2 3 3 1 2 2 1 2 ...\n",
            " $ dm       : chr [1:403] \"no\" \"no\" \"no\" \"no\" ...\n",
            " - attr(*, \"spec\")=\n",
            "  .. cols(\n",
            "  ..   ...1 = \u001b[32mcol_double()\u001b[39m,\n",
            "  ..   id = \u001b[32mcol_double()\u001b[39m,\n",
            "  ..   chol = \u001b[32mcol_double()\u001b[39m,\n",
            "  ..   stab.glu = \u001b[32mcol_double()\u001b[39m,\n",
            "  ..   hdl = \u001b[32mcol_double()\u001b[39m,\n",
            "  ..   ratio = \u001b[32mcol_double()\u001b[39m,\n",
            "  ..   glyhb = \u001b[32mcol_double()\u001b[39m,\n",
            "  ..   location = \u001b[31mcol_character()\u001b[39m,\n",
            "  ..   age = \u001b[32mcol_double()\u001b[39m,\n",
            "  ..   gender = \u001b[31mcol_character()\u001b[39m,\n",
            "  ..   height = \u001b[32mcol_double()\u001b[39m,\n",
            "  ..   weight = \u001b[32mcol_double()\u001b[39m,\n",
            "  ..   frame = \u001b[31mcol_character()\u001b[39m,\n",
            "  ..   bp.1s = \u001b[32mcol_double()\u001b[39m,\n",
            "  ..   bp.1d = \u001b[32mcol_double()\u001b[39m,\n",
            "  ..   bp.2s = \u001b[32mcol_double()\u001b[39m,\n",
            "  ..   bp.2d = \u001b[32mcol_double()\u001b[39m,\n",
            "  ..   waist = \u001b[32mcol_double()\u001b[39m,\n",
            "  ..   hip = \u001b[32mcol_double()\u001b[39m,\n",
            "  ..   time.ppn = \u001b[32mcol_double()\u001b[39m,\n",
            "  ..   insurance = \u001b[32mcol_double()\u001b[39m,\n",
            "  ..   fh = \u001b[32mcol_double()\u001b[39m,\n",
            "  ..   smoking = \u001b[32mcol_double()\u001b[39m,\n",
            "  ..   dm = \u001b[31mcol_character()\u001b[39m\n",
            "  .. )\n",
            " - attr(*, \"problems\")=<externalptr> \n"
          ]
        }
      ]
    },
    {
      "cell_type": "code",
      "source": [
        "diabetes$dm <- factor(diabetes$dm)\n",
        "diabetes$gender <- factor(diabetes$gender)\n",
        "class(diabetes$dm)\n"
      ],
      "metadata": {
        "colab": {
          "base_uri": "https://localhost:8080/",
          "height": 34
        },
        "id": "ep5TcoJb_KMx",
        "outputId": "0f71592b-476f-4452-99d9-df4aab331929"
      },
      "execution_count": 6,
      "outputs": [
        {
          "output_type": "display_data",
          "data": {
            "text/html": [
              "'factor'"
            ],
            "text/markdown": "'factor'",
            "text/latex": "'factor'",
            "text/plain": [
              "[1] \"factor\""
            ]
          },
          "metadata": {}
        }
      ]
    },
    {
      "cell_type": "code",
      "source": [
        "table(diabetes$dm)\n"
      ],
      "metadata": {
        "colab": {
          "base_uri": "https://localhost:8080/",
          "height": 71
        },
        "id": "DhGn-_BM_OdD",
        "outputId": "f3028e7b-7f03-4870-a8de-078d57fafb32"
      },
      "execution_count": 7,
      "outputs": [
        {
          "output_type": "display_data",
          "data": {
            "text/plain": [
              "\n",
              " no yes \n",
              "330  60 "
            ]
          },
          "metadata": {}
        }
      ]
    },
    {
      "cell_type": "code",
      "source": [
        "#Simple Logistic Regression\n",
        "m<- glm(dm~1,family=binomial (link=logit),data = diabetes)\n",
        "summary(m)\n"
      ],
      "metadata": {
        "colab": {
          "base_uri": "https://localhost:8080/",
          "height": 344
        },
        "id": "StpFZlct_TMq",
        "outputId": "ab623c17-53e4-466f-a364-3d04d7e1c9e3"
      },
      "execution_count": 8,
      "outputs": [
        {
          "output_type": "display_data",
          "data": {
            "text/plain": [
              "\n",
              "Call:\n",
              "glm(formula = dm ~ 1, family = binomial(link = logit), data = diabetes)\n",
              "\n",
              "Coefficients:\n",
              "            Estimate Std. Error z value Pr(>|z|)    \n",
              "(Intercept)  -1.7047     0.1403  -12.15   <2e-16 ***\n",
              "---\n",
              "Signif. codes:  0 ‘***’ 0.001 ‘**’ 0.01 ‘*’ 0.05 ‘.’ 0.1 ‘ ’ 1\n",
              "\n",
              "(Dispersion parameter for binomial family taken to be 1)\n",
              "\n",
              "    Null deviance: 334.87  on 389  degrees of freedom\n",
              "Residual deviance: 334.87  on 389  degrees of freedom\n",
              "  (13 observations deleted due to missingness)\n",
              "AIC: 336.87\n",
              "\n",
              "Number of Fisher Scoring iterations: 3\n"
            ]
          },
          "metadata": {}
        }
      ]
    },
    {
      "cell_type": "code",
      "source": [
        "table(m$y) # checking how R has interpreted the binary outcome\n"
      ],
      "metadata": {
        "colab": {
          "base_uri": "https://localhost:8080/",
          "height": 71
        },
        "id": "C0QF6GdR_XjZ",
        "outputId": "9d74e6af-5ab9-48ae-d8c7-b4ca7f49d0ef"
      },
      "execution_count": 9,
      "outputs": [
        {
          "output_type": "display_data",
          "data": {
            "text/plain": [
              "\n",
              "  0   1 \n",
              "330  60 "
            ]
          },
          "metadata": {}
        }
      ]
    },
    {
      "cell_type": "code",
      "source": [
        "m1<- glm(dm~age,family=binomial (link=logit),data = diabetes)\n",
        "summary(m1)\n",
        "\n",
        "\n"
      ],
      "metadata": {
        "colab": {
          "base_uri": "https://localhost:8080/",
          "height": 362
        },
        "id": "VtejC8HS_aeI",
        "outputId": "804436af-fec6-47c6-808a-deb978e2f3be"
      },
      "execution_count": 10,
      "outputs": [
        {
          "output_type": "display_data",
          "data": {
            "text/plain": [
              "\n",
              "Call:\n",
              "glm(formula = dm ~ age, family = binomial(link = logit), data = diabetes)\n",
              "\n",
              "Coefficients:\n",
              "             Estimate Std. Error z value Pr(>|z|)    \n",
              "(Intercept) -4.404530   0.542828  -8.114 4.90e-16 ***\n",
              "age          0.052465   0.009388   5.589 2.29e-08 ***\n",
              "---\n",
              "Signif. codes:  0 ‘***’ 0.001 ‘**’ 0.01 ‘*’ 0.05 ‘.’ 0.1 ‘ ’ 1\n",
              "\n",
              "(Dispersion parameter for binomial family taken to be 1)\n",
              "\n",
              "    Null deviance: 334.87  on 389  degrees of freedom\n",
              "Residual deviance: 299.41  on 388  degrees of freedom\n",
              "  (13 observations deleted due to missingness)\n",
              "AIC: 303.41\n",
              "\n",
              "Number of Fisher Scoring iterations: 5\n"
            ]
          },
          "metadata": {}
        }
      ]
    },
    {
      "cell_type": "code",
      "source": [
        "# create a cross tabulation of age and diabetes status\n",
        "dm_by_age <- table(diabetes$age, diabetes$dm)\n",
        "# output the frequencies of diabetes status by age\n",
        "freq_table <- prop.table(dm_by_age, margin = 1)\n",
        "# calculate the odds of having diabetes\n",
        "odds <- freq_table[, \"yes\"]/freq_table[, \"no\"]\n",
        "# calculate the log odds\n",
        "logodds <- log(odds)\n",
        "# plot the ages found in the sample against the log odds of having diabetes\n",
        "plot(rownames(freq_table), logodds)\n",
        "\n",
        "\n",
        "\n"
      ],
      "metadata": {
        "colab": {
          "base_uri": "https://localhost:8080/",
          "height": 437
        },
        "id": "d6tmDwnA_dah",
        "outputId": "4b631cd7-4f40-4c6c-f907-990e2ae591b8"
      },
      "execution_count": 11,
      "outputs": [
        {
          "output_type": "display_data",
          "data": {
            "text/plain": [
              "plot without title"
            ],
            "image/png": "[encoded data removed]"
          },
          "metadata": {
            "image/png": {
              "width": 420,
              "height": 420
            }
          }
        }
      ]
    },
    {
      "cell_type": "code",
      "source": [
        "#comparing age and gender as predictors\n",
        "\n",
        "m1<- glm(dm~age,family=binomial (link=logit),data = diabetes)\n",
        "summary(m1)\n",
        "m2<- glm(dm~gender,family=binomial (link=logit),data = diabetes)\n",
        "summary(m2)\n",
        "m3 <- glm(dm~location,family=binomial (link=logit),data = diabetes)\n",
        "summary(m3)\n"
      ],
      "metadata": {
        "colab": {
          "base_uri": "https://localhost:8080/",
          "height": 1000
        },
        "id": "lWns8q6r_lYz",
        "outputId": "09b65070-e7f4-4fbd-ade0-71764ba8d25b"
      },
      "execution_count": 12,
      "outputs": [
        {
          "output_type": "display_data",
          "data": {
            "text/plain": [
              "\n",
              "Call:\n",
              "glm(formula = dm ~ age, family = binomial(link = logit), data = diabetes)\n",
              "\n",
              "Coefficients:\n",
              "             Estimate Std. Error z value Pr(>|z|)    \n",
              "(Intercept) -4.404530   0.542828  -8.114 4.90e-16 ***\n",
              "age          0.052465   0.009388   5.589 2.29e-08 ***\n",
              "---\n",
              "Signif. codes:  0 ‘***’ 0.001 ‘**’ 0.01 ‘*’ 0.05 ‘.’ 0.1 ‘ ’ 1\n",
              "\n",
              "(Dispersion parameter for binomial family taken to be 1)\n",
              "\n",
              "    Null deviance: 334.87  on 389  degrees of freedom\n",
              "Residual deviance: 299.41  on 388  degrees of freedom\n",
              "  (13 observations deleted due to missingness)\n",
              "AIC: 303.41\n",
              "\n",
              "Number of Fisher Scoring iterations: 5\n"
            ]
          },
          "metadata": {}
        },
        {
          "output_type": "display_data",
          "data": {
            "text/plain": [
              "\n",
              "Call:\n",
              "glm(formula = dm ~ gender, family = binomial(link = logit), data = diabetes)\n",
              "\n",
              "Coefficients:\n",
              "            Estimate Std. Error z value Pr(>|z|)    \n",
              "(Intercept) -1.74150    0.18592  -9.367   <2e-16 ***\n",
              "gendermale   0.08694    0.28352   0.307    0.759    \n",
              "---\n",
              "Signif. codes:  0 ‘***’ 0.001 ‘**’ 0.01 ‘*’ 0.05 ‘.’ 0.1 ‘ ’ 1\n",
              "\n",
              "(Dispersion parameter for binomial family taken to be 1)\n",
              "\n",
              "    Null deviance: 334.87  on 389  degrees of freedom\n",
              "Residual deviance: 334.78  on 388  degrees of freedom\n",
              "  (13 observations deleted due to missingness)\n",
              "AIC: 338.78\n",
              "\n",
              "Number of Fisher Scoring iterations: 4\n"
            ]
          },
          "metadata": {}
        },
        {
          "output_type": "display_data",
          "data": {
            "text/plain": [
              "\n",
              "Call:\n",
              "glm(formula = dm ~ location, family = binomial(link = logit), \n",
              "    data = diabetes)\n",
              "\n",
              "Coefficients:\n",
              "               Estimate Std. Error z value Pr(>|z|)    \n",
              "(Intercept)     -1.6349     0.1963  -8.327   <2e-16 ***\n",
              "locationLouisa  -0.1395     0.2809  -0.497     0.62    \n",
              "---\n",
              "Signif. codes:  0 ‘***’ 0.001 ‘**’ 0.01 ‘*’ 0.05 ‘.’ 0.1 ‘ ’ 1\n",
              "\n",
              "(Dispersion parameter for binomial family taken to be 1)\n",
              "\n",
              "    Null deviance: 334.87  on 389  degrees of freedom\n",
              "Residual deviance: 334.63  on 388  degrees of freedom\n",
              "  (13 observations deleted due to missingness)\n",
              "AIC: 338.63\n",
              "\n",
              "Number of Fisher Scoring iterations: 4\n"
            ]
          },
          "metadata": {}
        }
      ]
    },
    {
      "cell_type": "code",
      "source": [
        "#Kernel density plots // for the distribition- in place of histogram\n",
        "\n",
        "d <- density(diabetes$age)\n",
        "plot(d,main = \"\") # gives warnings but the “main” argument suppresses the ugly default title\n",
        "\n"
      ],
      "metadata": {
        "colab": {
          "base_uri": "https://localhost:8080/",
          "height": 437
        },
        "id": "aGWTTo2w_rT9",
        "outputId": "a23e5e71-72b2-436d-e2b8-c8d09b2aaa0e"
      },
      "execution_count": 13,
      "outputs": [
        {
          "output_type": "display_data",
          "data": {
            "text/plain": [
              "Plot with title “”"
            ],
            "image/png": "[encoded data removed]"
          },
          "metadata": {
            "image/png": {
              "width": 420,
              "height": 420
            }
          }
        }
      ]
    },
    {
      "cell_type": "code",
      "source": [
        "class(diabetes$chol)\n",
        "\n"
      ],
      "metadata": {
        "colab": {
          "base_uri": "https://localhost:8080/",
          "height": 34
        },
        "id": "4_Fdzwbe_tHH",
        "outputId": "62ab6cbf-0c29-48f2-d76d-5754f46b6c3c"
      },
      "execution_count": 14,
      "outputs": [
        {
          "output_type": "display_data",
          "data": {
            "text/html": [
              "'numeric'"
            ],
            "text/markdown": "'numeric'",
            "text/latex": "'numeric'",
            "text/plain": [
              "[1] \"numeric\""
            ]
          },
          "metadata": {}
        }
      ]
    },
    {
      "cell_type": "code",
      "source": [
        "summary(diabetes$chol)\n"
      ],
      "metadata": {
        "colab": {
          "base_uri": "https://localhost:8080/",
          "height": 53
        },
        "id": "kPFXH_gJ_vIA",
        "outputId": "f816b82e-8f9f-4b9a-8f1b-1ae15df12818"
      },
      "execution_count": 15,
      "outputs": [
        {
          "output_type": "display_data",
          "data": {
            "text/plain": [
              "   Min. 1st Qu.  Median    Mean 3rd Qu.    Max.    NA's \n",
              "   78.0   179.0   204.0   207.8   230.0   443.0       1 "
            ]
          },
          "metadata": {}
        }
      ]
    },
    {
      "cell_type": "code",
      "source": [
        "#remove NAs\n",
        "chol.no.na <- diabetes$chol[is.na(diabetes$chol)==0]\n",
        "d <- density(chol.no.na)\n",
        "plot(d,main = \"\")\n",
        "\n"
      ],
      "metadata": {
        "colab": {
          "base_uri": "https://localhost:8080/",
          "height": 437
        },
        "id": "J-bovohA_yEG",
        "outputId": "a8cc15a9-2d0c-48d4-d989-c117416cecd7"
      },
      "execution_count": 16,
      "outputs": [
        {
          "output_type": "display_data",
          "data": {
            "text/plain": [
              "Plot with title “”"
            ],
            "image/png": "[encoded data removed]"
          },
          "metadata": {
            "image/png": {
              "width": 420,
              "height": 420
            }
          }
        }
      ]
    },
    {
      "cell_type": "code",
      "source": [
        "lr2 <- glm(dm~age+gender+height,data = diabetes, family = binomial(link = logit))\n",
        "summary(lr2)\n",
        "\n"
      ],
      "metadata": {
        "colab": {
          "base_uri": "https://localhost:8080/",
          "height": 416
        },
        "id": "0miMGPIa_1CB",
        "outputId": "9f9c65d9-ea6d-4a78-d389-70ae48eb7485"
      },
      "execution_count": 17,
      "outputs": [
        {
          "output_type": "display_data",
          "data": {
            "text/plain": [
              "\n",
              "Call:\n",
              "glm(formula = dm ~ age + gender + height, family = binomial(link = logit), \n",
              "    data = diabetes)\n",
              "\n",
              "Coefficients:\n",
              "             Estimate Std. Error z value Pr(>|z|)    \n",
              "(Intercept) -10.88356    3.81082  -2.856  0.00429 ** \n",
              "age           0.05750    0.01018   5.650 1.61e-08 ***\n",
              "gendermale   -0.53312    0.42723  -1.248  0.21209    \n",
              "height        0.09729    0.05609   1.735  0.08282 .  \n",
              "---\n",
              "Signif. codes:  0 ‘***’ 0.001 ‘**’ 0.01 ‘*’ 0.05 ‘.’ 0.1 ‘ ’ 1\n",
              "\n",
              "(Dispersion parameter for binomial family taken to be 1)\n",
              "\n",
              "    Null deviance: 329.79  on 384  degrees of freedom\n",
              "Residual deviance: 291.80  on 381  degrees of freedom\n",
              "  (18 observations deleted due to missingness)\n",
              "AIC: 299.8\n",
              "\n",
              "Number of Fisher Scoring iterations: 5\n"
            ]
          },
          "metadata": {}
        }
      ]
    },
    {
      "cell_type": "code",
      "source": [
        "lgr <- glm(dm~age+chol+insurance,data = diabetes, family = binomial(link = logit))\n",
        "summary(lgr)\n"
      ],
      "metadata": {
        "colab": {
          "base_uri": "https://localhost:8080/",
          "height": 416
        },
        "id": "nVyJDA_F_4Dm",
        "outputId": "fa7ae698-e03a-4fc0-efa6-91570ed5a806"
      },
      "execution_count": 18,
      "outputs": [
        {
          "output_type": "display_data",
          "data": {
            "text/plain": [
              "\n",
              "Call:\n",
              "glm(formula = dm ~ age + chol + insurance, family = binomial(link = logit), \n",
              "    data = diabetes)\n",
              "\n",
              "Coefficients:\n",
              "             Estimate Std. Error z value Pr(>|z|)    \n",
              "(Intercept) -5.782785   0.859767  -6.726 1.74e-11 ***\n",
              "age          0.049720   0.009757   5.096 3.47e-07 ***\n",
              "chol         0.008392   0.003150   2.665  0.00771 ** \n",
              "insurance   -0.294207   0.188047  -1.565  0.11769    \n",
              "---\n",
              "Signif. codes:  0 ‘***’ 0.001 ‘**’ 0.01 ‘*’ 0.05 ‘.’ 0.1 ‘ ’ 1\n",
              "\n",
              "(Dispersion parameter for binomial family taken to be 1)\n",
              "\n",
              "    Null deviance: 334.54  on 388  degrees of freedom\n",
              "Residual deviance: 289.29  on 385  degrees of freedom\n",
              "  (14 observations deleted due to missingness)\n",
              "AIC: 297.29\n",
              "\n",
              "Number of Fisher Scoring iterations: 5\n"
            ]
          },
          "metadata": {}
        }
      ]
    },
    {
      "cell_type": "code",
      "source": [
        "confint(lgr)\n"
      ],
      "metadata": {
        "colab": {
          "base_uri": "https://localhost:8080/",
          "height": 228
        },
        "id": "JMTgYwo6_5zf",
        "outputId": "b877ab33-3691-4f6c-da00-fb98af6219be"
      },
      "execution_count": 19,
      "outputs": [
        {
          "output_type": "stream",
          "name": "stderr",
          "text": [
            "Waiting for profiling to be done...\n",
            "\n"
          ]
        },
        {
          "output_type": "display_data",
          "data": {
            "text/html": [
              "<table class=\"dataframe\">\n",
              "<caption>A matrix: 4 × 2 of type dbl</caption>\n",
              "<thead>\n",
              "\t<tr><th></th><th scope=col>2.5 %</th><th scope=col>97.5 %</th></tr>\n",
              "</thead>\n",
              "<tbody>\n",
              "\t<tr><th scope=row>(Intercept)</th><td>-7.541869422</td><td>-4.15676095</td></tr>\n",
              "\t<tr><th scope=row>age</th><td> 0.031078284</td><td> 0.06947371</td></tr>\n",
              "\t<tr><th scope=row>chol</th><td> 0.002232578</td><td> 0.01468174</td></tr>\n",
              "\t<tr><th scope=row>insurance</th><td>-0.667460744</td><td> 0.07225062</td></tr>\n",
              "</tbody>\n",
              "</table>\n"
            ],
            "text/markdown": "\nA matrix: 4 × 2 of type dbl\n\n| <!--/--> | 2.5 % | 97.5 % |\n|---|---|---|\n| (Intercept) | -7.541869422 | -4.15676095 |\n| age |  0.031078284 |  0.06947371 |\n| chol |  0.002232578 |  0.01468174 |\n| insurance | -0.667460744 |  0.07225062 |\n\n",
            "text/latex": "A matrix: 4 × 2 of type dbl\n\\begin{tabular}{r|ll}\n  & 2.5 \\% & 97.5 \\%\\\\\n\\hline\n\t(Intercept) & -7.541869422 & -4.15676095\\\\\n\tage &  0.031078284 &  0.06947371\\\\\n\tchol &  0.002232578 &  0.01468174\\\\\n\tinsurance & -0.667460744 &  0.07225062\\\\\n\\end{tabular}\n",
            "text/plain": [
              "            2.5 %        97.5 %     \n",
              "(Intercept) -7.541869422 -4.15676095\n",
              "age          0.031078284  0.06947371\n",
              "chol         0.002232578  0.01468174\n",
              "insurance   -0.667460744  0.07225062"
            ]
          },
          "metadata": {}
        }
      ]
    },
    {
      "cell_type": "code",
      "source": [
        "# analysis of deviance\n",
        "anova(lgr,test = \"Chisq\")\n"
      ],
      "metadata": {
        "colab": {
          "base_uri": "https://localhost:8080/",
          "height": 223
        },
        "id": "Mr3I12hq_8LA",
        "outputId": "239bba52-3f9b-4f49-d42d-defc7fc662d2"
      },
      "execution_count": 20,
      "outputs": [
        {
          "output_type": "display_data",
          "data": {
            "text/html": [
              "<table class=\"dataframe\">\n",
              "<caption>A anova: 4 × 5</caption>\n",
              "<thead>\n",
              "\t<tr><th></th><th scope=col>Df</th><th scope=col>Deviance</th><th scope=col>Resid. Df</th><th scope=col>Resid. Dev</th><th scope=col>Pr(&gt;Chi)</th></tr>\n",
              "\t<tr><th></th><th scope=col>&lt;int&gt;</th><th scope=col>&lt;dbl&gt;</th><th scope=col>&lt;int&gt;</th><th scope=col>&lt;dbl&gt;</th><th scope=col>&lt;dbl&gt;</th></tr>\n",
              "</thead>\n",
              "<tbody>\n",
              "\t<tr><th scope=row>NULL</th><td>NA</td><td>       NA</td><td>388</td><td>334.5374</td><td>          NA</td></tr>\n",
              "\t<tr><th scope=row>age</th><td> 1</td><td>35.412938</td><td>387</td><td>299.1244</td><td>2.667093e-09</td></tr>\n",
              "\t<tr><th scope=row>chol</th><td> 1</td><td> 7.363043</td><td>386</td><td>291.7614</td><td>6.657801e-03</td></tr>\n",
              "\t<tr><th scope=row>insurance</th><td> 1</td><td> 2.473144</td><td>385</td><td>289.2883</td><td>1.158061e-01</td></tr>\n",
              "</tbody>\n",
              "</table>\n"
            ],
            "text/markdown": "\nA anova: 4 × 5\n\n| <!--/--> | Df &lt;int&gt; | Deviance &lt;dbl&gt; | Resid. Df &lt;int&gt; | Resid. Dev &lt;dbl&gt; | Pr(&gt;Chi) &lt;dbl&gt; |\n|---|---|---|---|---|---|\n| NULL | NA |        NA | 388 | 334.5374 |           NA |\n| age |  1 | 35.412938 | 387 | 299.1244 | 2.667093e-09 |\n| chol |  1 |  7.363043 | 386 | 291.7614 | 6.657801e-03 |\n| insurance |  1 |  2.473144 | 385 | 289.2883 | 1.158061e-01 |\n\n",
            "text/latex": "A anova: 4 × 5\n\\begin{tabular}{r|lllll}\n  & Df & Deviance & Resid. Df & Resid. Dev & Pr(>Chi)\\\\\n  & <int> & <dbl> & <int> & <dbl> & <dbl>\\\\\n\\hline\n\tNULL & NA &        NA & 388 & 334.5374 &           NA\\\\\n\tage &  1 & 35.412938 & 387 & 299.1244 & 2.667093e-09\\\\\n\tchol &  1 &  7.363043 & 386 & 291.7614 & 6.657801e-03\\\\\n\tinsurance &  1 &  2.473144 & 385 & 289.2883 & 1.158061e-01\\\\\n\\end{tabular}\n",
            "text/plain": [
              "          Df Deviance  Resid. Df Resid. Dev Pr(>Chi)    \n",
              "NULL      NA        NA 388       334.5374             NA\n",
              "age        1 35.412938 387       299.1244   2.667093e-09\n",
              "chol       1  7.363043 386       291.7614   6.657801e-03\n",
              "insurance  1  2.473144 385       289.2883   1.158061e-01"
            ]
          },
          "metadata": {}
        }
      ]
    },
    {
      "cell_type": "code",
      "source": [
        "diabetes$insurance <- factor(diabetes$insurance)"
      ],
      "metadata": {
        "id": "oEJMMYcp_-2Y"
      },
      "execution_count": 21,
      "outputs": []
    },
    {
      "cell_type": "markdown",
      "source": [
        "## Using Tidyverse Well"
      ],
      "metadata": {
        "id": "9GLmpsBDBjsC"
      }
    },
    {
      "cell_type": "markdown",
      "source": [
        "Here, I restructure the code to use a tidyverse piping routine."
      ],
      "metadata": {
        "id": "hiF-ncT2HeuC"
      }
    },
    {
      "cell_type": "code",
      "source": [
        "# Reading data and basic manipulations\n",
        "diabetes <- diabetes |>\n",
        "  as_tibble() |>\n",
        "  mutate(\n",
        "    dm = factor(dm),\n",
        "    gender = factor(gender),\n",
        "    insurance = factor(insurance)\n",
        "  )\n"
      ],
      "metadata": {
        "id": "mgId_t8rBv8n"
      },
      "execution_count": 22,
      "outputs": []
    },
    {
      "cell_type": "code",
      "source": [
        "# Print dataset dimensions, column names, and structure\n",
        "diabetes |> dim()\n"
      ],
      "metadata": {
        "colab": {
          "base_uri": "https://localhost:8080/",
          "height": 34
        },
        "id": "QIJgo8o4B0zp",
        "outputId": "0a2bcb69-57b8-49b8-8e8b-45f2a821eb27"
      },
      "execution_count": 24,
      "outputs": [
        {
          "output_type": "display_data",
          "data": {
            "text/html": [
              "<style>\n",
              ".list-inline {list-style: none; margin:0; padding: 0}\n",
              ".list-inline>li {display: inline-block}\n",
              ".list-inline>li:not(:last-child)::after {content: \"\\00b7\"; padding: 0 .5ex}\n",
              "</style>\n",
              "<ol class=list-inline><li>403</li><li>24</li></ol>\n"
            ],
            "text/markdown": "1. 403\n2. 24\n\n\n",
            "text/latex": "\\begin{enumerate*}\n\\item 403\n\\item 24\n\\end{enumerate*}\n",
            "text/plain": [
              "[1] 403  24"
            ]
          },
          "metadata": {}
        }
      ]
    },
    {
      "cell_type": "code",
      "source": [
        "diabetes |> colnames()\n"
      ],
      "metadata": {
        "colab": {
          "base_uri": "https://localhost:8080/",
          "height": 34
        },
        "id": "caTE26YAB8-d",
        "outputId": "31cf6ba5-543c-4529-bfb4-003d99f8194b"
      },
      "execution_count": 25,
      "outputs": [
        {
          "output_type": "display_data",
          "data": {
            "text/html": [
              "<style>\n",
              ".list-inline {list-style: none; margin:0; padding: 0}\n",
              ".list-inline>li {display: inline-block}\n",
              ".list-inline>li:not(:last-child)::after {content: \"\\00b7\"; padding: 0 .5ex}\n",
              "</style>\n",
              "<ol class=list-inline><li>'...1'</li><li>'id'</li><li>'chol'</li><li>'stab.glu'</li><li>'hdl'</li><li>'ratio'</li><li>'glyhb'</li><li>'location'</li><li>'age'</li><li>'gender'</li><li>'height'</li><li>'weight'</li><li>'frame'</li><li>'bp.1s'</li><li>'bp.1d'</li><li>'bp.2s'</li><li>'bp.2d'</li><li>'waist'</li><li>'hip'</li><li>'time.ppn'</li><li>'insurance'</li><li>'fh'</li><li>'smoking'</li><li>'dm'</li></ol>\n"
            ],
            "text/markdown": "1. '...1'\n2. 'id'\n3. 'chol'\n4. 'stab.glu'\n5. 'hdl'\n6. 'ratio'\n7. 'glyhb'\n8. 'location'\n9. 'age'\n10. 'gender'\n11. 'height'\n12. 'weight'\n13. 'frame'\n14. 'bp.1s'\n15. 'bp.1d'\n16. 'bp.2s'\n17. 'bp.2d'\n18. 'waist'\n19. 'hip'\n20. 'time.ppn'\n21. 'insurance'\n22. 'fh'\n23. 'smoking'\n24. 'dm'\n\n\n",
            "text/latex": "\\begin{enumerate*}\n\\item '...1'\n\\item 'id'\n\\item 'chol'\n\\item 'stab.glu'\n\\item 'hdl'\n\\item 'ratio'\n\\item 'glyhb'\n\\item 'location'\n\\item 'age'\n\\item 'gender'\n\\item 'height'\n\\item 'weight'\n\\item 'frame'\n\\item 'bp.1s'\n\\item 'bp.1d'\n\\item 'bp.2s'\n\\item 'bp.2d'\n\\item 'waist'\n\\item 'hip'\n\\item 'time.ppn'\n\\item 'insurance'\n\\item 'fh'\n\\item 'smoking'\n\\item 'dm'\n\\end{enumerate*}\n",
            "text/plain": [
              " [1] \"...1\"      \"id\"        \"chol\"      \"stab.glu\"  \"hdl\"       \"ratio\"    \n",
              " [7] \"glyhb\"     \"location\"  \"age\"       \"gender\"    \"height\"    \"weight\"   \n",
              "[13] \"frame\"     \"bp.1s\"     \"bp.1d\"     \"bp.2s\"     \"bp.2d\"     \"waist\"    \n",
              "[19] \"hip\"       \"time.ppn\"  \"insurance\" \"fh\"        \"smoking\"   \"dm\"       "
            ]
          },
          "metadata": {}
        }
      ]
    },
    {
      "cell_type": "code",
      "source": [
        "diabetes |> str()\n"
      ],
      "metadata": {
        "colab": {
          "base_uri": "https://localhost:8080/"
        },
        "id": "R-FaZaOdB_Ou",
        "outputId": "8552b278-740d-49c7-cbc5-1fc1bc46203a"
      },
      "execution_count": 26,
      "outputs": [
        {
          "output_type": "stream",
          "name": "stdout",
          "text": [
            "tibble [403 × 24] (S3: tbl_df/tbl/data.frame)\n",
            " $ ...1     : num [1:403] 1 2 3 4 5 6 7 8 9 10 ...\n",
            " $ id       : num [1:403] 1000 1001 1002 1003 1005 ...\n",
            " $ chol     : num [1:403] 203 165 228 78 249 248 195 227 177 263 ...\n",
            " $ stab.glu : num [1:403] 82 97 92 93 90 94 92 75 87 89 ...\n",
            " $ hdl      : num [1:403] 56 24 37 12 28 69 41 44 49 40 ...\n",
            " $ ratio    : num [1:403] 3.6 6.9 6.2 6.5 8.9 ...\n",
            " $ glyhb    : num [1:403] 4.31 4.44 4.64 4.63 7.72 ...\n",
            " $ location : chr [1:403] \"Buckingham\" \"Buckingham\" \"Buckingham\" \"Buckingham\" ...\n",
            " $ age      : num [1:403] 46 29 58 67 64 34 30 37 45 55 ...\n",
            " $ gender   : Factor w/ 2 levels \"female\",\"male\": 1 1 1 2 2 2 2 2 2 1 ...\n",
            " $ height   : num [1:403] 62 64 61 67 68 71 69 59 69 63 ...\n",
            " $ weight   : num [1:403] 121 218 256 119 183 190 191 170 166 202 ...\n",
            " $ frame    : chr [1:403] \"medium\" \"large\" \"large\" \"large\" ...\n",
            " $ bp.1s    : num [1:403] 118 112 190 110 138 132 161 NA 160 108 ...\n",
            " $ bp.1d    : num [1:403] 59 68 92 50 80 86 112 NA 80 72 ...\n",
            " $ bp.2s    : num [1:403] NA NA 185 NA NA NA 161 NA 128 NA ...\n",
            " $ bp.2d    : num [1:403] NA NA 92 NA NA NA 112 NA 86 NA ...\n",
            " $ waist    : num [1:403] 29 46 49 33 44 36 46 34 34 45 ...\n",
            " $ hip      : num [1:403] 38 48 57 38 41 42 49 39 40 50 ...\n",
            " $ time.ppn : num [1:403] 720 360 180 480 300 195 720 1020 300 240 ...\n",
            " $ insurance: Factor w/ 3 levels \"0\",\"1\",\"2\": 2 1 3 2 1 2 3 1 3 3 ...\n",
            " $ fh       : num [1:403] 0 0 0 0 0 0 1 0 1 0 ...\n",
            " $ smoking  : num [1:403] 3 2 2 3 3 1 2 2 1 2 ...\n",
            " $ dm       : Factor w/ 2 levels \"no\",\"yes\": 1 1 1 1 2 1 1 1 1 1 ...\n"
          ]
        }
      ]
    },
    {
      "cell_type": "code",
      "source": [
        "# Simple Logistic Regression\n",
        "m <- diabetes |>\n",
        "  glm(formula = dm ~ 1, family = binomial(link = \"logit\"))\n",
        "m |> summary()\n"
      ],
      "metadata": {
        "colab": {
          "base_uri": "https://localhost:8080/",
          "height": 344
        },
        "id": "7_Pkyu_jCGAH",
        "outputId": "39df5144-7d5c-4ce2-ad2b-c28c53ac0949"
      },
      "execution_count": 34,
      "outputs": [
        {
          "output_type": "display_data",
          "data": {
            "text/plain": [
              "\n",
              "Call:\n",
              "glm(formula = dm ~ 1, family = binomial(link = \"logit\"), data = diabetes)\n",
              "\n",
              "Coefficients:\n",
              "            Estimate Std. Error z value Pr(>|z|)    \n",
              "(Intercept)  -1.7047     0.1403  -12.15   <2e-16 ***\n",
              "---\n",
              "Signif. codes:  0 ‘***’ 0.001 ‘**’ 0.01 ‘*’ 0.05 ‘.’ 0.1 ‘ ’ 1\n",
              "\n",
              "(Dispersion parameter for binomial family taken to be 1)\n",
              "\n",
              "    Null deviance: 334.87  on 389  degrees of freedom\n",
              "Residual deviance: 334.87  on 389  degrees of freedom\n",
              "  (13 observations deleted due to missingness)\n",
              "AIC: 336.87\n",
              "\n",
              "Number of Fisher Scoring iterations: 3\n"
            ]
          },
          "metadata": {}
        }
      ]
    },
    {
      "cell_type": "code",
      "source": [
        "m1 <- diabetes |>\n",
        "  glm(formula = dm ~ age, family = binomial(link = \"logit\"))\n",
        "m1 |> summary()\n"
      ],
      "metadata": {
        "colab": {
          "base_uri": "https://localhost:8080/",
          "height": 362
        },
        "id": "0TU4RiLPCt5-",
        "outputId": "2023f1df-d77d-43d0-cc4f-2ca82fe68672"
      },
      "execution_count": 32,
      "outputs": [
        {
          "output_type": "display_data",
          "data": {
            "text/plain": [
              "\n",
              "Call:\n",
              "glm(formula = dm ~ age, family = binomial(link = \"logit\"), data = diabetes)\n",
              "\n",
              "Coefficients:\n",
              "             Estimate Std. Error z value Pr(>|z|)    \n",
              "(Intercept) -4.404530   0.542828  -8.114 4.90e-16 ***\n",
              "age          0.052465   0.009388   5.589 2.29e-08 ***\n",
              "---\n",
              "Signif. codes:  0 ‘***’ 0.001 ‘**’ 0.01 ‘*’ 0.05 ‘.’ 0.1 ‘ ’ 1\n",
              "\n",
              "(Dispersion parameter for binomial family taken to be 1)\n",
              "\n",
              "    Null deviance: 334.87  on 389  degrees of freedom\n",
              "Residual deviance: 299.41  on 388  degrees of freedom\n",
              "  (13 observations deleted due to missingness)\n",
              "AIC: 303.41\n",
              "\n",
              "Number of Fisher Scoring iterations: 5\n"
            ]
          },
          "metadata": {}
        }
      ]
    },
    {
      "cell_type": "code",
      "source": [
        "# Cross tabulation of age and diabetes status\n",
        "dm_by_age <- diabetes |>\n",
        "  count(age, dm) |>   # Create a frequency table\n",
        "  pivot_wider(names_from = dm, values_from = n, values_fill = list(n = 0)) |>  # Spread the data for 'yes' and 'no' diabetes status\n",
        "  mutate(odds = `yes` / `no`,  # Calculate odds\n",
        "         logodds = log(odds))  # Calculate log odds\n"
      ],
      "metadata": {
        "id": "yDsm18BJDbVv"
      },
      "execution_count": 36,
      "outputs": []
    },
    {
      "cell_type": "code",
      "source": [
        "# Plot the log odds of having diabetes by age\n",
        "ggplot(dm_by_age, aes(x = age, y = logodds)) +\n",
        "  geom_line() +\n",
        "  labs(x = \"Age\", y = \"Log odds of having diabetes\")\n"
      ],
      "metadata": {
        "colab": {
          "base_uri": "https://localhost:8080/",
          "height": 437
        },
        "id": "Es80iLrpD7PZ",
        "outputId": "16843fbf-5800-472f-b775-52bd08a14ff6"
      },
      "execution_count": 40,
      "outputs": [
        {
          "output_type": "display_data",
          "data": {
            "text/plain": [
              "plot without title"
            ],
            "image/png": "[encoded data removed]"
          },
          "metadata": {
            "image/png": {
              "width": 420,
              "height": 420
            }
          }
        }
      ]
    },
    {
      "cell_type": "code",
      "source": [
        "# Comparing age and gender as predictors\n",
        "m2 <- diabetes |>\n",
        "  glm(formula = dm ~ gender, family = binomial(link = \"logit\"))\n",
        "m2 |> summary()\n"
      ],
      "metadata": {
        "colab": {
          "base_uri": "https://localhost:8080/",
          "height": 380
        },
        "id": "-oDKl_KQEKyF",
        "outputId": "7ead8dd8-d28a-46f7-d04a-c3a9d1667fd1"
      },
      "execution_count": 41,
      "outputs": [
        {
          "output_type": "display_data",
          "data": {
            "text/plain": [
              "\n",
              "Call:\n",
              "glm(formula = dm ~ gender, family = binomial(link = \"logit\"), \n",
              "    data = diabetes)\n",
              "\n",
              "Coefficients:\n",
              "            Estimate Std. Error z value Pr(>|z|)    \n",
              "(Intercept) -1.74150    0.18592  -9.367   <2e-16 ***\n",
              "gendermale   0.08694    0.28352   0.307    0.759    \n",
              "---\n",
              "Signif. codes:  0 ‘***’ 0.001 ‘**’ 0.01 ‘*’ 0.05 ‘.’ 0.1 ‘ ’ 1\n",
              "\n",
              "(Dispersion parameter for binomial family taken to be 1)\n",
              "\n",
              "    Null deviance: 334.87  on 389  degrees of freedom\n",
              "Residual deviance: 334.78  on 388  degrees of freedom\n",
              "  (13 observations deleted due to missingness)\n",
              "AIC: 338.78\n",
              "\n",
              "Number of Fisher Scoring iterations: 4\n"
            ]
          },
          "metadata": {}
        }
      ]
    },
    {
      "cell_type": "code",
      "source": [
        "m3 <- diabetes |>\n",
        "  glm(formula = dm ~ location, family = binomial(link = \"logit\"))\n",
        "m3 |> summary()\n"
      ],
      "metadata": {
        "colab": {
          "base_uri": "https://localhost:8080/",
          "height": 380
        },
        "id": "rPovxppHEUin",
        "outputId": "6e4eeb86-3f9b-45a0-da85-f069f6dcffad"
      },
      "execution_count": 42,
      "outputs": [
        {
          "output_type": "display_data",
          "data": {
            "text/plain": [
              "\n",
              "Call:\n",
              "glm(formula = dm ~ location, family = binomial(link = \"logit\"), \n",
              "    data = diabetes)\n",
              "\n",
              "Coefficients:\n",
              "               Estimate Std. Error z value Pr(>|z|)    \n",
              "(Intercept)     -1.6349     0.1963  -8.327   <2e-16 ***\n",
              "locationLouisa  -0.1395     0.2809  -0.497     0.62    \n",
              "---\n",
              "Signif. codes:  0 ‘***’ 0.001 ‘**’ 0.01 ‘*’ 0.05 ‘.’ 0.1 ‘ ’ 1\n",
              "\n",
              "(Dispersion parameter for binomial family taken to be 1)\n",
              "\n",
              "    Null deviance: 334.87  on 389  degrees of freedom\n",
              "Residual deviance: 334.63  on 388  degrees of freedom\n",
              "  (13 observations deleted due to missingness)\n",
              "AIC: 338.63\n",
              "\n",
              "Number of Fisher Scoring iterations: 4\n"
            ]
          },
          "metadata": {}
        }
      ]
    },
    {
      "cell_type": "code",
      "source": [
        "# Kernel density plots for the distribution\n",
        "diabetes |>\n",
        "  ggplot(aes(x = age)) +\n",
        "  geom_density() +\n",
        "  labs(title = \"\")\n"
      ],
      "metadata": {
        "colab": {
          "base_uri": "https://localhost:8080/",
          "height": 437
        },
        "id": "Z3ri0ipEFMmx",
        "outputId": "55d3c156-a7f5-40ab-8c90-5e9966c95287"
      },
      "execution_count": 43,
      "outputs": [
        {
          "output_type": "display_data",
          "data": {
            "text/plain": [
              "plot without title"
            ],
            "image/png": "[encoded data removed]"
          },
          "metadata": {
            "image/png": {
              "width": 420,
              "height": 420
            }
          }
        }
      ]
    },
    {
      "cell_type": "code",
      "source": [
        "# Removing NAs and plotting density for 'chol'\n",
        "diabetes |>\n",
        "  drop_na(chol) |>\n",
        "  ggplot(aes(x = chol)) +\n",
        "  geom_density() +\n",
        "  labs(title = \"\")\n"
      ],
      "metadata": {
        "colab": {
          "base_uri": "https://localhost:8080/",
          "height": 437
        },
        "id": "QDHiwPUHFfQn",
        "outputId": "c95db74b-e2a9-4840-ef15-9cede4d69ee6"
      },
      "execution_count": 44,
      "outputs": [
        {
          "output_type": "display_data",
          "data": {
            "text/plain": [
              "plot without title"
            ],
            "image/png": "[encoded data removed]"
          },
          "metadata": {
            "image/png": {
              "width": 420,
              "height": 420
            }
          }
        }
      ]
    },
    {
      "cell_type": "code",
      "source": [
        "# Logistic regressions with multiple predictors\n",
        "lr2 <- diabetes |>\n",
        "  glm(formula = dm ~ age + gender + height, family = binomial(link = \"logit\"))\n",
        "lr2 |> summary()\n"
      ],
      "metadata": {
        "colab": {
          "base_uri": "https://localhost:8080/",
          "height": 416
        },
        "id": "rk6hsIkMF24R",
        "outputId": "74990194-e7ab-4188-8baa-96d37649eca2"
      },
      "execution_count": 45,
      "outputs": [
        {
          "output_type": "display_data",
          "data": {
            "text/plain": [
              "\n",
              "Call:\n",
              "glm(formula = dm ~ age + gender + height, family = binomial(link = \"logit\"), \n",
              "    data = diabetes)\n",
              "\n",
              "Coefficients:\n",
              "             Estimate Std. Error z value Pr(>|z|)    \n",
              "(Intercept) -10.88356    3.81082  -2.856  0.00429 ** \n",
              "age           0.05750    0.01018   5.650 1.61e-08 ***\n",
              "gendermale   -0.53312    0.42723  -1.248  0.21209    \n",
              "height        0.09729    0.05609   1.735  0.08282 .  \n",
              "---\n",
              "Signif. codes:  0 ‘***’ 0.001 ‘**’ 0.01 ‘*’ 0.05 ‘.’ 0.1 ‘ ’ 1\n",
              "\n",
              "(Dispersion parameter for binomial family taken to be 1)\n",
              "\n",
              "    Null deviance: 329.79  on 384  degrees of freedom\n",
              "Residual deviance: 291.80  on 381  degrees of freedom\n",
              "  (18 observations deleted due to missingness)\n",
              "AIC: 299.8\n",
              "\n",
              "Number of Fisher Scoring iterations: 5\n"
            ]
          },
          "metadata": {}
        }
      ]
    },
    {
      "cell_type": "code",
      "source": [
        "lgr <- diabetes |>\n",
        "  glm(formula = dm ~ age + chol + insurance, family = binomial(link = \"logit\"))\n",
        "lgr |> summary()"
      ],
      "metadata": {
        "colab": {
          "base_uri": "https://localhost:8080/",
          "height": 434
        },
        "id": "EBFjpsUPHII_",
        "outputId": "ae6616cf-0418-4a1e-eee8-377f415206dc"
      },
      "execution_count": 47,
      "outputs": [
        {
          "output_type": "display_data",
          "data": {
            "text/plain": [
              "\n",
              "Call:\n",
              "glm(formula = dm ~ age + chol + insurance, family = binomial(link = \"logit\"), \n",
              "    data = diabetes)\n",
              "\n",
              "Coefficients:\n",
              "             Estimate Std. Error z value Pr(>|z|)    \n",
              "(Intercept) -5.794252   0.874555  -6.625 3.46e-11 ***\n",
              "age          0.049753   0.009770   5.092 3.54e-07 ***\n",
              "chol         0.008402   0.003153   2.665   0.0077 ** \n",
              "insurance1  -0.271955   0.359445  -0.757   0.4493    \n",
              "insurance2  -0.589803   0.377434  -1.563   0.1181    \n",
              "---\n",
              "Signif. codes:  0 ‘***’ 0.001 ‘**’ 0.01 ‘*’ 0.05 ‘.’ 0.1 ‘ ’ 1\n",
              "\n",
              "(Dispersion parameter for binomial family taken to be 1)\n",
              "\n",
              "    Null deviance: 334.54  on 388  degrees of freedom\n",
              "Residual deviance: 289.28  on 384  degrees of freedom\n",
              "  (14 observations deleted due to missingness)\n",
              "AIC: 299.28\n",
              "\n",
              "Number of Fisher Scoring iterations: 5\n"
            ]
          },
          "metadata": {}
        }
      ]
    },
    {
      "cell_type": "code",
      "source": [
        "lgr |> confint()\n"
      ],
      "metadata": {
        "colab": {
          "base_uri": "https://localhost:8080/",
          "height": 260
        },
        "id": "YHn_iPKtHO_q",
        "outputId": "8aa114eb-32ac-42fc-f5ab-77fd658b4adf"
      },
      "execution_count": 48,
      "outputs": [
        {
          "output_type": "stream",
          "name": "stderr",
          "text": [
            "Waiting for profiling to be done...\n",
            "\n"
          ]
        },
        {
          "output_type": "display_data",
          "data": {
            "text/html": [
              "<table class=\"dataframe\">\n",
              "<caption>A matrix: 5 × 2 of type dbl</caption>\n",
              "<thead>\n",
              "\t<tr><th></th><th scope=col>2.5 %</th><th scope=col>97.5 %</th></tr>\n",
              "</thead>\n",
              "<tbody>\n",
              "\t<tr><th scope=row>(Intercept)</th><td>-7.585225810</td><td>-4.14047457</td></tr>\n",
              "\t<tr><th scope=row>age</th><td> 0.031090409</td><td> 0.06953818</td></tr>\n",
              "\t<tr><th scope=row>chol</th><td> 0.002236513</td><td> 0.01470098</td></tr>\n",
              "\t<tr><th scope=row>insurance1</th><td>-0.980997627</td><td> 0.43496216</td></tr>\n",
              "\t<tr><th scope=row>insurance2</th><td>-1.342712045</td><td> 0.14480165</td></tr>\n",
              "</tbody>\n",
              "</table>\n"
            ],
            "text/markdown": "\nA matrix: 5 × 2 of type dbl\n\n| <!--/--> | 2.5 % | 97.5 % |\n|---|---|---|\n| (Intercept) | -7.585225810 | -4.14047457 |\n| age |  0.031090409 |  0.06953818 |\n| chol |  0.002236513 |  0.01470098 |\n| insurance1 | -0.980997627 |  0.43496216 |\n| insurance2 | -1.342712045 |  0.14480165 |\n\n",
            "text/latex": "A matrix: 5 × 2 of type dbl\n\\begin{tabular}{r|ll}\n  & 2.5 \\% & 97.5 \\%\\\\\n\\hline\n\t(Intercept) & -7.585225810 & -4.14047457\\\\\n\tage &  0.031090409 &  0.06953818\\\\\n\tchol &  0.002236513 &  0.01470098\\\\\n\tinsurance1 & -0.980997627 &  0.43496216\\\\\n\tinsurance2 & -1.342712045 &  0.14480165\\\\\n\\end{tabular}\n",
            "text/plain": [
              "            2.5 %        97.5 %     \n",
              "(Intercept) -7.585225810 -4.14047457\n",
              "age          0.031090409  0.06953818\n",
              "chol         0.002236513  0.01470098\n",
              "insurance1  -0.980997627  0.43496216\n",
              "insurance2  -1.342712045  0.14480165"
            ]
          },
          "metadata": {}
        }
      ]
    },
    {
      "cell_type": "code",
      "source": [
        "lgr |> anova(test = \"Chisq\")\n"
      ],
      "metadata": {
        "colab": {
          "base_uri": "https://localhost:8080/",
          "height": 223
        },
        "id": "FlAcsm_YHXoQ",
        "outputId": "8a59dfce-62bb-4aca-a528-4176e3c14486"
      },
      "execution_count": 49,
      "outputs": [
        {
          "output_type": "display_data",
          "data": {
            "text/html": [
              "<table class=\"dataframe\">\n",
              "<caption>A anova: 4 × 5</caption>\n",
              "<thead>\n",
              "\t<tr><th></th><th scope=col>Df</th><th scope=col>Deviance</th><th scope=col>Resid. Df</th><th scope=col>Resid. Dev</th><th scope=col>Pr(&gt;Chi)</th></tr>\n",
              "\t<tr><th></th><th scope=col>&lt;int&gt;</th><th scope=col>&lt;dbl&gt;</th><th scope=col>&lt;int&gt;</th><th scope=col>&lt;dbl&gt;</th><th scope=col>&lt;dbl&gt;</th></tr>\n",
              "</thead>\n",
              "<tbody>\n",
              "\t<tr><th scope=row>NULL</th><td>NA</td><td>       NA</td><td>388</td><td>334.5374</td><td>          NA</td></tr>\n",
              "\t<tr><th scope=row>age</th><td> 1</td><td>35.412938</td><td>387</td><td>299.1244</td><td>2.667093e-09</td></tr>\n",
              "\t<tr><th scope=row>chol</th><td> 1</td><td> 7.363043</td><td>386</td><td>291.7614</td><td>6.657801e-03</td></tr>\n",
              "\t<tr><th scope=row>insurance</th><td> 2</td><td> 2.478420</td><td>384</td><td>289.2830</td><td>2.896129e-01</td></tr>\n",
              "</tbody>\n",
              "</table>\n"
            ],
            "text/markdown": "\nA anova: 4 × 5\n\n| <!--/--> | Df &lt;int&gt; | Deviance &lt;dbl&gt; | Resid. Df &lt;int&gt; | Resid. Dev &lt;dbl&gt; | Pr(&gt;Chi) &lt;dbl&gt; |\n|---|---|---|---|---|---|\n| NULL | NA |        NA | 388 | 334.5374 |           NA |\n| age |  1 | 35.412938 | 387 | 299.1244 | 2.667093e-09 |\n| chol |  1 |  7.363043 | 386 | 291.7614 | 6.657801e-03 |\n| insurance |  2 |  2.478420 | 384 | 289.2830 | 2.896129e-01 |\n\n",
            "text/latex": "A anova: 4 × 5\n\\begin{tabular}{r|lllll}\n  & Df & Deviance & Resid. Df & Resid. Dev & Pr(>Chi)\\\\\n  & <int> & <dbl> & <int> & <dbl> & <dbl>\\\\\n\\hline\n\tNULL & NA &        NA & 388 & 334.5374 &           NA\\\\\n\tage &  1 & 35.412938 & 387 & 299.1244 & 2.667093e-09\\\\\n\tchol &  1 &  7.363043 & 386 & 291.7614 & 6.657801e-03\\\\\n\tinsurance &  2 &  2.478420 & 384 & 289.2830 & 2.896129e-01\\\\\n\\end{tabular}\n",
            "text/plain": [
              "          Df Deviance  Resid. Df Resid. Dev Pr(>Chi)    \n",
              "NULL      NA        NA 388       334.5374             NA\n",
              "age        1 35.412938 387       299.1244   2.667093e-09\n",
              "chol       1  7.363043 386       291.7614   6.657801e-03\n",
              "insurance  2  2.478420 384       289.2830   2.896129e-01"
            ]
          },
          "metadata": {}
        }
      ]
    }
  ]
}